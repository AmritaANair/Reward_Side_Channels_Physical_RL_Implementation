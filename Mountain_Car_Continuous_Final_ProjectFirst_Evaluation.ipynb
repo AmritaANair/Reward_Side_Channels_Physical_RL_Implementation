{
  "cells": [
    {
      "cell_type": "markdown",
      "metadata": {
        "id": "view-in-github",
        "colab_type": "text"
      },
      "source": [
        "<a href=\"https://colab.research.google.com/github/AmritaANair/Reward_Side_Channels_Physical_RL_Implementation/blob/main/Mountain_Car_Continuous_Final_ProjectFirst_Evaluation.ipynb\" target=\"_parent\"><img src=\"https://colab.research.google.com/assets/colab-badge.svg\" alt=\"Open In Colab\"/></a>"
      ]
    },
    {
      "cell_type": "code",
      "execution_count": 1,
      "metadata": {
        "colab": {
          "base_uri": "https://localhost:8080/"
        },
        "id": "N9RehPPBhLmE",
        "outputId": "22fd6828-20ab-4606-c4cd-2e52207eebf3"
      },
      "outputs": [
        {
          "output_type": "stream",
          "name": "stdout",
          "text": [
            "Mounted at /content/drive\n"
          ]
        }
      ],
      "source": [
        "from google.colab import drive\n",
        "drive.mount('/content/drive')"
      ]
    },
    {
      "cell_type": "code",
      "execution_count": 2,
      "metadata": {
        "colab": {
          "base_uri": "https://localhost:8080/"
        },
        "id": "6LmgCV2bUjPl",
        "outputId": "691131ca-936d-4feb-c546-f37757942b2c"
      },
      "outputs": [
        {
          "output_type": "stream",
          "name": "stdout",
          "text": [
            "Looking in indexes: https://pypi.org/simple, https://us-python.pkg.dev/colab-wheels/public/simple/\n",
            "Collecting stable-baselines3[extra]\n",
            "  Downloading stable_baselines3-1.6.2-py3-none-any.whl (170 kB)\n",
            "\u001b[K     |████████████████████████████████| 170 kB 5.1 MB/s \n",
            "\u001b[?25hRequirement already satisfied: pandas in /usr/local/lib/python3.8/dist-packages (from stable-baselines3[extra]) (1.3.5)\n",
            "Requirement already satisfied: torch>=1.11 in /usr/local/lib/python3.8/dist-packages (from stable-baselines3[extra]) (1.13.0+cu116)\n",
            "Requirement already satisfied: matplotlib in /usr/local/lib/python3.8/dist-packages (from stable-baselines3[extra]) (3.2.2)\n",
            "Collecting importlib-metadata~=4.13\n",
            "  Downloading importlib_metadata-4.13.0-py3-none-any.whl (23 kB)\n",
            "Requirement already satisfied: numpy in /usr/local/lib/python3.8/dist-packages (from stable-baselines3[extra]) (1.21.6)\n",
            "Requirement already satisfied: cloudpickle in /usr/local/lib/python3.8/dist-packages (from stable-baselines3[extra]) (1.5.0)\n",
            "Collecting gym==0.21\n",
            "  Downloading gym-0.21.0.tar.gz (1.5 MB)\n",
            "\u001b[K     |████████████████████████████████| 1.5 MB 36.3 MB/s \n",
            "\u001b[?25hRequirement already satisfied: opencv-python in /usr/local/lib/python3.8/dist-packages (from stable-baselines3[extra]) (4.6.0.66)\n",
            "Requirement already satisfied: tensorboard>=2.9.1 in /usr/local/lib/python3.8/dist-packages (from stable-baselines3[extra]) (2.9.1)\n",
            "Collecting ale-py==0.7.4\n",
            "  Downloading ale_py-0.7.4-cp38-cp38-manylinux_2_17_x86_64.manylinux2014_x86_64.whl (1.6 MB)\n",
            "\u001b[K     |████████████████████████████████| 1.6 MB 37.1 MB/s \n",
            "\u001b[?25hRequirement already satisfied: pillow in /usr/local/lib/python3.8/dist-packages (from stable-baselines3[extra]) (7.1.2)\n",
            "Requirement already satisfied: psutil in /usr/local/lib/python3.8/dist-packages (from stable-baselines3[extra]) (5.4.8)\n",
            "Collecting autorom[accept-rom-license]~=0.4.2\n",
            "  Downloading AutoROM-0.4.2-py3-none-any.whl (16 kB)\n",
            "Collecting rich\n",
            "  Downloading rich-12.6.0-py3-none-any.whl (237 kB)\n",
            "\u001b[K     |████████████████████████████████| 237 kB 70.2 MB/s \n",
            "\u001b[?25hRequirement already satisfied: tqdm in /usr/local/lib/python3.8/dist-packages (from stable-baselines3[extra]) (4.64.1)\n",
            "Requirement already satisfied: importlib-resources in /usr/local/lib/python3.8/dist-packages (from ale-py==0.7.4->stable-baselines3[extra]) (5.10.1)\n",
            "Requirement already satisfied: requests in /usr/local/lib/python3.8/dist-packages (from autorom[accept-rom-license]~=0.4.2->stable-baselines3[extra]) (2.23.0)\n",
            "Requirement already satisfied: click in /usr/local/lib/python3.8/dist-packages (from autorom[accept-rom-license]~=0.4.2->stable-baselines3[extra]) (7.1.2)\n",
            "Collecting AutoROM.accept-rom-license\n",
            "  Downloading AutoROM.accept-rom-license-0.5.0.tar.gz (10 kB)\n",
            "  Installing build dependencies ... \u001b[?25l\u001b[?25hdone\n",
            "  Getting requirements to build wheel ... \u001b[?25l\u001b[?25hdone\n",
            "    Preparing wheel metadata ... \u001b[?25l\u001b[?25hdone\n",
            "Requirement already satisfied: zipp>=0.5 in /usr/local/lib/python3.8/dist-packages (from importlib-metadata~=4.13->stable-baselines3[extra]) (3.11.0)\n",
            "Requirement already satisfied: tensorboard-data-server<0.7.0,>=0.6.0 in /usr/local/lib/python3.8/dist-packages (from tensorboard>=2.9.1->stable-baselines3[extra]) (0.6.1)\n",
            "Requirement already satisfied: google-auth<3,>=1.6.3 in /usr/local/lib/python3.8/dist-packages (from tensorboard>=2.9.1->stable-baselines3[extra]) (2.15.0)\n",
            "Requirement already satisfied: werkzeug>=1.0.1 in /usr/local/lib/python3.8/dist-packages (from tensorboard>=2.9.1->stable-baselines3[extra]) (1.0.1)\n",
            "Requirement already satisfied: tensorboard-plugin-wit>=1.6.0 in /usr/local/lib/python3.8/dist-packages (from tensorboard>=2.9.1->stable-baselines3[extra]) (1.8.1)\n",
            "Requirement already satisfied: google-auth-oauthlib<0.5,>=0.4.1 in /usr/local/lib/python3.8/dist-packages (from tensorboard>=2.9.1->stable-baselines3[extra]) (0.4.6)\n",
            "Requirement already satisfied: setuptools>=41.0.0 in /usr/local/lib/python3.8/dist-packages (from tensorboard>=2.9.1->stable-baselines3[extra]) (57.4.0)\n",
            "Requirement already satisfied: wheel>=0.26 in /usr/local/lib/python3.8/dist-packages (from tensorboard>=2.9.1->stable-baselines3[extra]) (0.38.4)\n",
            "Requirement already satisfied: absl-py>=0.4 in /usr/local/lib/python3.8/dist-packages (from tensorboard>=2.9.1->stable-baselines3[extra]) (1.3.0)\n",
            "Requirement already satisfied: protobuf<3.20,>=3.9.2 in /usr/local/lib/python3.8/dist-packages (from tensorboard>=2.9.1->stable-baselines3[extra]) (3.19.6)\n",
            "Requirement already satisfied: markdown>=2.6.8 in /usr/local/lib/python3.8/dist-packages (from tensorboard>=2.9.1->stable-baselines3[extra]) (3.4.1)\n",
            "Requirement already satisfied: grpcio>=1.24.3 in /usr/local/lib/python3.8/dist-packages (from tensorboard>=2.9.1->stable-baselines3[extra]) (1.51.1)\n",
            "Requirement already satisfied: pyasn1-modules>=0.2.1 in /usr/local/lib/python3.8/dist-packages (from google-auth<3,>=1.6.3->tensorboard>=2.9.1->stable-baselines3[extra]) (0.2.8)\n",
            "Requirement already satisfied: cachetools<6.0,>=2.0.0 in /usr/local/lib/python3.8/dist-packages (from google-auth<3,>=1.6.3->tensorboard>=2.9.1->stable-baselines3[extra]) (5.2.0)\n",
            "Requirement already satisfied: rsa<5,>=3.1.4 in /usr/local/lib/python3.8/dist-packages (from google-auth<3,>=1.6.3->tensorboard>=2.9.1->stable-baselines3[extra]) (4.9)\n",
            "Requirement already satisfied: six>=1.9.0 in /usr/local/lib/python3.8/dist-packages (from google-auth<3,>=1.6.3->tensorboard>=2.9.1->stable-baselines3[extra]) (1.15.0)\n",
            "Requirement already satisfied: requests-oauthlib>=0.7.0 in /usr/local/lib/python3.8/dist-packages (from google-auth-oauthlib<0.5,>=0.4.1->tensorboard>=2.9.1->stable-baselines3[extra]) (1.3.1)\n",
            "Requirement already satisfied: pyasn1<0.5.0,>=0.4.6 in /usr/local/lib/python3.8/dist-packages (from pyasn1-modules>=0.2.1->google-auth<3,>=1.6.3->tensorboard>=2.9.1->stable-baselines3[extra]) (0.4.8)\n",
            "Requirement already satisfied: urllib3!=1.25.0,!=1.25.1,<1.26,>=1.21.1 in /usr/local/lib/python3.8/dist-packages (from requests->autorom[accept-rom-license]~=0.4.2->stable-baselines3[extra]) (1.24.3)\n",
            "Requirement already satisfied: idna<3,>=2.5 in /usr/local/lib/python3.8/dist-packages (from requests->autorom[accept-rom-license]~=0.4.2->stable-baselines3[extra]) (2.10)\n",
            "Requirement already satisfied: certifi>=2017.4.17 in /usr/local/lib/python3.8/dist-packages (from requests->autorom[accept-rom-license]~=0.4.2->stable-baselines3[extra]) (2022.12.7)\n",
            "Requirement already satisfied: chardet<4,>=3.0.2 in /usr/local/lib/python3.8/dist-packages (from requests->autorom[accept-rom-license]~=0.4.2->stable-baselines3[extra]) (3.0.4)\n",
            "Requirement already satisfied: oauthlib>=3.0.0 in /usr/local/lib/python3.8/dist-packages (from requests-oauthlib>=0.7.0->google-auth-oauthlib<0.5,>=0.4.1->tensorboard>=2.9.1->stable-baselines3[extra]) (3.2.2)\n",
            "Requirement already satisfied: typing-extensions in /usr/local/lib/python3.8/dist-packages (from torch>=1.11->stable-baselines3[extra]) (4.4.0)\n",
            "Collecting libtorrent\n",
            "  Using cached libtorrent-2.0.7-cp38-cp38-manylinux_2_12_x86_64.manylinux2010_x86_64.whl (8.6 MB)\n",
            "Requirement already satisfied: pyparsing!=2.0.4,!=2.1.2,!=2.1.6,>=2.0.1 in /usr/local/lib/python3.8/dist-packages (from matplotlib->stable-baselines3[extra]) (3.0.9)\n",
            "Requirement already satisfied: cycler>=0.10 in /usr/local/lib/python3.8/dist-packages (from matplotlib->stable-baselines3[extra]) (0.11.0)\n",
            "Requirement already satisfied: kiwisolver>=1.0.1 in /usr/local/lib/python3.8/dist-packages (from matplotlib->stable-baselines3[extra]) (1.4.4)\n",
            "Requirement already satisfied: python-dateutil>=2.1 in /usr/local/lib/python3.8/dist-packages (from matplotlib->stable-baselines3[extra]) (2.8.2)\n",
            "Requirement already satisfied: pytz>=2017.3 in /usr/local/lib/python3.8/dist-packages (from pandas->stable-baselines3[extra]) (2022.6)\n",
            "Requirement already satisfied: pygments<3.0.0,>=2.6.0 in /usr/local/lib/python3.8/dist-packages (from rich->stable-baselines3[extra]) (2.6.1)\n",
            "Collecting commonmark<0.10.0,>=0.9.0\n",
            "  Downloading commonmark-0.9.1-py2.py3-none-any.whl (51 kB)\n",
            "\u001b[K     |████████████████████████████████| 51 kB 6.1 MB/s \n",
            "\u001b[?25hBuilding wheels for collected packages: gym, AutoROM.accept-rom-license\n",
            "  Building wheel for gym (setup.py) ... \u001b[?25l\u001b[?25hdone\n",
            "  Created wheel for gym: filename=gym-0.21.0-py3-none-any.whl size=1616821 sha256=62e5040a5b4a6fffa83ce399e01d09f6bd7425247b4c484385968f161a4b29df\n",
            "  Stored in directory: /root/.cache/pip/wheels/27/6d/b3/a3a6e10704795c9b9000f1ab2dc480dfe7bed42f5972806e73\n",
            "  Building wheel for AutoROM.accept-rom-license (PEP 517) ... \u001b[?25l\u001b[?25hdone\n",
            "  Created wheel for AutoROM.accept-rom-license: filename=AutoROM.accept_rom_license-0.5.0-py3-none-any.whl size=440868 sha256=3e8c7effe503aad12107f4a5bafdb5a9ad3deaa587cdd2dde032e571e023a6f4\n",
            "  Stored in directory: /root/.cache/pip/wheels/bf/c9/25/578470ae932b494c313dc22e6c57afff192140fb3cd5acf185\n",
            "Successfully built gym AutoROM.accept-rom-license\n",
            "Installing collected packages: libtorrent, importlib-metadata, gym, commonmark, AutoROM.accept-rom-license, autorom, stable-baselines3, rich, ale-py\n",
            "  Attempting uninstall: importlib-metadata\n",
            "    Found existing installation: importlib-metadata 5.1.0\n",
            "    Uninstalling importlib-metadata-5.1.0:\n",
            "      Successfully uninstalled importlib-metadata-5.1.0\n",
            "  Attempting uninstall: gym\n",
            "    Found existing installation: gym 0.25.2\n",
            "    Uninstalling gym-0.25.2:\n",
            "      Successfully uninstalled gym-0.25.2\n",
            "Successfully installed AutoROM.accept-rom-license-0.5.0 ale-py-0.7.4 autorom-0.4.2 commonmark-0.9.1 gym-0.21.0 importlib-metadata-4.13.0 libtorrent-2.0.7 rich-12.6.0 stable-baselines3-1.6.2\n"
          ]
        }
      ],
      "source": [
        "!pip install stable-baselines3[extra]"
      ]
    },
    {
      "cell_type": "code",
      "execution_count": 3,
      "metadata": {
        "id": "9xd4fB8ZLcRT",
        "colab": {
          "base_uri": "https://localhost:8080/"
        },
        "outputId": "37773b34-7988-4286-b904-b19c918182d1"
      },
      "outputs": [
        {
          "output_type": "stream",
          "name": "stdout",
          "text": [
            "Looking in indexes: https://pypi.org/simple, https://us-python.pkg.dev/colab-wheels/public/simple/\n",
            "Collecting pyvirtualdisplay\n",
            "  Downloading PyVirtualDisplay-3.0-py3-none-any.whl (15 kB)\n",
            "Installing collected packages: pyvirtualdisplay\n",
            "Successfully installed pyvirtualdisplay-3.0\n",
            "Looking in indexes: https://pypi.org/simple, https://us-python.pkg.dev/colab-wheels/public/simple/\n",
            "Collecting piglet\n",
            "  Downloading piglet-1.0.0-py2.py3-none-any.whl (2.2 kB)\n",
            "Collecting piglet-templates\n",
            "  Downloading piglet_templates-1.3.0-py3-none-any.whl (67 kB)\n",
            "\u001b[K     |████████████████████████████████| 67 kB 2.5 MB/s \n",
            "\u001b[?25hRequirement already satisfied: pyparsing in /usr/local/lib/python3.8/dist-packages (from piglet-templates->piglet) (3.0.9)\n",
            "Requirement already satisfied: markupsafe in /usr/local/lib/python3.8/dist-packages (from piglet-templates->piglet) (2.0.1)\n",
            "Requirement already satisfied: astunparse in /usr/local/lib/python3.8/dist-packages (from piglet-templates->piglet) (1.6.3)\n",
            "Requirement already satisfied: attrs in /usr/local/lib/python3.8/dist-packages (from piglet-templates->piglet) (22.1.0)\n",
            "Requirement already satisfied: wheel<1.0,>=0.23.0 in /usr/local/lib/python3.8/dist-packages (from astunparse->piglet-templates->piglet) (0.38.4)\n",
            "Requirement already satisfied: six<2.0,>=1.6.1 in /usr/local/lib/python3.8/dist-packages (from astunparse->piglet-templates->piglet) (1.15.0)\n",
            "Installing collected packages: piglet-templates, piglet\n",
            "Successfully installed piglet-1.0.0 piglet-templates-1.3.0\n",
            "Reading package lists... Done\n",
            "Building dependency tree       \n",
            "Reading state information... Done\n",
            "The following package was automatically installed and is no longer required:\n",
            "  libnvidia-common-460\n",
            "Use 'apt autoremove' to remove it.\n",
            "The following additional packages will be installed:\n",
            "  freeglut3\n",
            "Suggested packages:\n",
            "  libgle3\n",
            "The following NEW packages will be installed:\n",
            "  freeglut3 python-opengl\n",
            "0 upgraded, 2 newly installed, 0 to remove and 20 not upgraded.\n",
            "Need to get 570 kB of archives.\n",
            "After this operation, 5,733 kB of additional disk space will be used.\n",
            "Get:1 http://archive.ubuntu.com/ubuntu bionic/universe amd64 freeglut3 amd64 2.8.1-3 [73.6 kB]\n",
            "Get:2 http://archive.ubuntu.com/ubuntu bionic/universe amd64 python-opengl all 3.1.0+dfsg-1 [496 kB]\n",
            "Fetched 570 kB in 1s (716 kB/s)\n",
            "Selecting previously unselected package freeglut3:amd64.\n",
            "(Reading database ... 124016 files and directories currently installed.)\n",
            "Preparing to unpack .../freeglut3_2.8.1-3_amd64.deb ...\n",
            "Unpacking freeglut3:amd64 (2.8.1-3) ...\n",
            "Selecting previously unselected package python-opengl.\n",
            "Preparing to unpack .../python-opengl_3.1.0+dfsg-1_all.deb ...\n",
            "Unpacking python-opengl (3.1.0+dfsg-1) ...\n",
            "Setting up freeglut3:amd64 (2.8.1-3) ...\n",
            "Setting up python-opengl (3.1.0+dfsg-1) ...\n",
            "Processing triggers for libc-bin (2.27-3ubuntu1.6) ...\n",
            "Looking in indexes: https://pypi.org/simple, https://us-python.pkg.dev/colab-wheels/public/simple/\n",
            "Requirement already satisfied: gym in /usr/local/lib/python3.8/dist-packages (0.21.0)\n",
            "Requirement already satisfied: numpy>=1.18.0 in /usr/local/lib/python3.8/dist-packages (from gym) (1.21.6)\n",
            "Requirement already satisfied: cloudpickle>=1.2.0 in /usr/local/lib/python3.8/dist-packages (from gym) (1.5.0)\n",
            "Looking in indexes: https://pypi.org/simple, https://us-python.pkg.dev/colab-wheels/public/simple/\n",
            "Collecting pyglet==1.5.24\n",
            "  Downloading pyglet-1.5.24-py3-none-any.whl (1.1 MB)\n",
            "\u001b[K     |████████████████████████████████| 1.1 MB 5.1 MB/s \n",
            "\u001b[?25hInstalling collected packages: pyglet\n",
            "Successfully installed pyglet-1.5.24\n",
            "Looking in indexes: https://pypi.org/simple, https://us-python.pkg.dev/colab-wheels/public/simple/\n",
            "Collecting kora\n",
            "  Downloading kora-0.9.20-py3-none-any.whl (57 kB)\n",
            "\u001b[K     |████████████████████████████████| 57 kB 2.8 MB/s \n",
            "\u001b[?25hRequirement already satisfied: ipython in /usr/local/lib/python3.8/dist-packages (from kora) (7.9.0)\n",
            "Requirement already satisfied: fastcore in /usr/local/lib/python3.8/dist-packages (from kora) (1.5.27)\n",
            "Requirement already satisfied: pip in /usr/local/lib/python3.8/dist-packages (from fastcore->kora) (21.1.3)\n",
            "Requirement already satisfied: packaging in /usr/local/lib/python3.8/dist-packages (from fastcore->kora) (21.3)\n",
            "Requirement already satisfied: prompt-toolkit<2.1.0,>=2.0.0 in /usr/local/lib/python3.8/dist-packages (from ipython->kora) (2.0.10)\n",
            "Requirement already satisfied: pygments in /usr/local/lib/python3.8/dist-packages (from ipython->kora) (2.6.1)\n",
            "Requirement already satisfied: backcall in /usr/local/lib/python3.8/dist-packages (from ipython->kora) (0.2.0)\n",
            "Requirement already satisfied: traitlets>=4.2 in /usr/local/lib/python3.8/dist-packages (from ipython->kora) (5.7.1)\n",
            "Requirement already satisfied: decorator in /usr/local/lib/python3.8/dist-packages (from ipython->kora) (4.4.2)\n",
            "Collecting jedi>=0.10\n",
            "  Downloading jedi-0.18.2-py2.py3-none-any.whl (1.6 MB)\n",
            "\u001b[K     |████████████████████████████████| 1.6 MB 9.6 MB/s \n",
            "\u001b[?25hRequirement already satisfied: pexpect in /usr/local/lib/python3.8/dist-packages (from ipython->kora) (4.8.0)\n",
            "Requirement already satisfied: setuptools>=18.5 in /usr/local/lib/python3.8/dist-packages (from ipython->kora) (57.4.0)\n",
            "Requirement already satisfied: pickleshare in /usr/local/lib/python3.8/dist-packages (from ipython->kora) (0.7.5)\n",
            "Requirement already satisfied: parso<0.9.0,>=0.8.0 in /usr/local/lib/python3.8/dist-packages (from jedi>=0.10->ipython->kora) (0.8.3)\n",
            "Requirement already satisfied: wcwidth in /usr/local/lib/python3.8/dist-packages (from prompt-toolkit<2.1.0,>=2.0.0->ipython->kora) (0.2.5)\n",
            "Requirement already satisfied: six>=1.9.0 in /usr/local/lib/python3.8/dist-packages (from prompt-toolkit<2.1.0,>=2.0.0->ipython->kora) (1.15.0)\n",
            "Requirement already satisfied: pyparsing!=3.0.5,>=2.0.2 in /usr/local/lib/python3.8/dist-packages (from packaging->fastcore->kora) (3.0.9)\n",
            "Requirement already satisfied: ptyprocess>=0.5 in /usr/local/lib/python3.8/dist-packages (from pexpect->ipython->kora) (0.7.0)\n",
            "Installing collected packages: jedi, kora\n",
            "Successfully installed jedi-0.18.2 kora-0.9.20\n",
            "Looking in indexes: https://pypi.org/simple, https://us-python.pkg.dev/colab-wheels/public/simple/\n",
            "Requirement already satisfied: gym in /usr/local/lib/python3.8/dist-packages (0.21.0)\n",
            "Requirement already satisfied: cloudpickle>=1.2.0 in /usr/local/lib/python3.8/dist-packages (from gym) (1.5.0)\n",
            "Requirement already satisfied: numpy>=1.18.0 in /usr/local/lib/python3.8/dist-packages (from gym) (1.21.6)\n",
            "Reading package lists... Done\n",
            "Building dependency tree       \n",
            "Reading state information... Done\n",
            "python-opengl is already the newest version (3.1.0+dfsg-1).\n",
            "The following package was automatically installed and is no longer required:\n",
            "  libnvidia-common-460\n",
            "Use 'apt autoremove' to remove it.\n",
            "0 upgraded, 0 newly installed, 0 to remove and 20 not upgraded.\n",
            "Reading package lists... Done\n",
            "Building dependency tree       \n",
            "Reading state information... Done\n",
            "The following package was automatically installed and is no longer required:\n",
            "  libnvidia-common-460\n",
            "Use 'apt autoremove' to remove it.\n",
            "The following NEW packages will be installed:\n",
            "  xvfb\n",
            "0 upgraded, 1 newly installed, 0 to remove and 20 not upgraded.\n",
            "Need to get 785 kB of archives.\n",
            "After this operation, 2,271 kB of additional disk space will be used.\n",
            "Get:1 http://archive.ubuntu.com/ubuntu bionic-updates/universe amd64 xvfb amd64 2:1.19.6-1ubuntu4.13 [785 kB]\n",
            "Fetched 785 kB in 0s (3,269 kB/s)\n",
            "Selecting previously unselected package xvfb.\n",
            "(Reading database ... 126376 files and directories currently installed.)\n",
            "Preparing to unpack .../xvfb_2%3a1.19.6-1ubuntu4.13_amd64.deb ...\n",
            "Unpacking xvfb (2:1.19.6-1ubuntu4.13) ...\n",
            "Setting up xvfb (2:1.19.6-1ubuntu4.13) ...\n",
            "Processing triggers for man-db (2.8.3-2ubuntu0.1) ...\n",
            "Hit:1 http://archive.ubuntu.com/ubuntu bionic InRelease\n",
            "Get:2 http://archive.ubuntu.com/ubuntu bionic-updates InRelease [88.7 kB]\n",
            "Get:3 https://cloud.r-project.org/bin/linux/ubuntu bionic-cran40/ InRelease [3,626 B]\n",
            "Ign:4 https://developer.download.nvidia.com/compute/machine-learning/repos/ubuntu1804/x86_64  InRelease\n",
            "Get:5 http://security.ubuntu.com/ubuntu bionic-security InRelease [88.7 kB]\n",
            "Hit:6 https://developer.download.nvidia.com/compute/cuda/repos/ubuntu1804/x86_64  InRelease\n",
            "Get:7 http://archive.ubuntu.com/ubuntu bionic-backports InRelease [83.3 kB]\n",
            "Hit:8 https://developer.download.nvidia.com/compute/machine-learning/repos/ubuntu1804/x86_64  Release\n",
            "Hit:9 http://ppa.launchpad.net/c2d4u.team/c2d4u4.0+/ubuntu bionic InRelease\n",
            "Hit:10 http://ppa.launchpad.net/cran/libgit2/ubuntu bionic InRelease\n",
            "Hit:11 http://ppa.launchpad.net/deadsnakes/ppa/ubuntu bionic InRelease\n",
            "Hit:12 http://ppa.launchpad.net/graphics-drivers/ppa/ubuntu bionic InRelease\n",
            "Fetched 264 kB in 3s (89.7 kB/s)\n",
            "Reading package lists... Done\n",
            "Reading package lists... Done\n",
            "Building dependency tree       \n",
            "Reading state information... Done\n",
            "xvfb is already the newest version (2:1.19.6-1ubuntu4.13).\n",
            "The following package was automatically installed and is no longer required:\n",
            "  libnvidia-common-460\n",
            "Use 'apt autoremove' to remove it.\n",
            "0 upgraded, 0 newly installed, 0 to remove and 20 not upgraded.\n"
          ]
        }
      ],
      "source": [
        "import gym\n",
        "\n",
        "from stable_baselines3 import PPO\n",
        "from stable_baselines3.ppo import MlpPolicy\n",
        "from stable_baselines3.common.env_util import make_vec_env\n",
        "!pip install pyvirtualdisplay\n",
        "!pip install piglet\n",
        "!apt-get install python-opengl -y\n",
        "!pip install gym\n",
        "!pip install pyglet==1.5.24\n",
        "!pip install kora\n",
        "!pip install gym\n",
        "!apt-get install python-opengl -y\n",
        "!apt install xvfb -y\n",
        "!apt-get update\n",
        "!apt-get install xvfb"
      ]
    },
    {
      "cell_type": "code",
      "source": [
        "!git clone https://github.com/mandrakedrink/PPO-pytorch\n",
        "!wget -q https://raw.githubusercontent.com/yandexdataschool/Practical_RL/master/setup_colab.sh -O- | bash\n",
        "!pip install roboschool==1.0.48 gym==0.15.4   # roboschool envs (https://github.com/openai/roboschool/issues/210)\n",
        "!pip install box2d-py   # 2d-boxes envs\n",
        "\n",
        "# requirements for virtual display\n",
        "!apt install python-opengl \n",
        "!apt install ffmpeg\n",
        "!apt install xvfb\n",
        "!pip install pyvirtualdisplay\n",
        "!pip install xvfbwrapper\n",
        "\n",
        "\n",
        "from pyvirtualdisplay import Display\n",
        "import sys\n",
        "\n",
        "# Add ppo module in system path\n",
        "sys.path.append(\"PPO-pytorch/\")\n",
        "\n",
        "# Start virtual display\n",
        "display = Display(visible=0, size=(600, 400))\n",
        "display.start()"
      ],
      "metadata": {
        "colab": {
          "base_uri": "https://localhost:8080/"
        },
        "id": "6lhWvupQXo7V",
        "outputId": "0ad785dc-f8c1-47fb-ccf7-ffe1bf59a743"
      },
      "execution_count": 4,
      "outputs": [
        {
          "output_type": "stream",
          "name": "stdout",
          "text": [
            "Cloning into 'PPO-pytorch'...\n",
            "remote: Enumerating objects: 27, done.\u001b[K\n",
            "remote: Counting objects: 100% (27/27), done.\u001b[K\n",
            "remote: Compressing objects: 100% (27/27), done.\u001b[K\n",
            "remote: Total 27 (delta 4), reused 15 (delta 0), pack-reused 0\u001b[K\n",
            "Unpacking objects: 100% (27/27), done.\n",
            "Looking in indexes: https://pypi.org/simple, https://us-python.pkg.dev/colab-wheels/public/simple/\n",
            "\u001b[31mERROR: Could not find a version that satisfies the requirement roboschool==1.0.48 (from versions: 1.0.1, 1.0.3, 1.0.6, 1.0.7, 1.0.8, 1.0.15, 1.0.16, 1.0.17, 1.0.18, 1.0.19, 1.0.20, 1.0.34)\u001b[0m\n",
            "\u001b[31mERROR: No matching distribution found for roboschool==1.0.48\u001b[0m\n",
            "Looking in indexes: https://pypi.org/simple, https://us-python.pkg.dev/colab-wheels/public/simple/\n",
            "Collecting box2d-py\n",
            "  Downloading box2d-py-2.3.8.tar.gz (374 kB)\n",
            "\u001b[K     |████████████████████████████████| 374 kB 4.8 MB/s \n",
            "\u001b[?25hBuilding wheels for collected packages: box2d-py\n",
            "  Building wheel for box2d-py (setup.py) ... \u001b[?25lerror\n",
            "\u001b[31m  ERROR: Failed building wheel for box2d-py\u001b[0m\n",
            "\u001b[?25h  Running setup.py clean for box2d-py\n",
            "Failed to build box2d-py\n",
            "Installing collected packages: box2d-py\n",
            "    Running setup.py install for box2d-py ... \u001b[?25l\u001b[?25herror\n",
            "\u001b[31mERROR: Command errored out with exit status 1: /usr/bin/python3 -u -c 'import io, os, sys, setuptools, tokenize; sys.argv[0] = '\"'\"'/tmp/pip-install-4gcwc1s4/box2d-py_a1d821f9ddff4532bd7f9952c969ea0d/setup.py'\"'\"'; __file__='\"'\"'/tmp/pip-install-4gcwc1s4/box2d-py_a1d821f9ddff4532bd7f9952c969ea0d/setup.py'\"'\"';f = getattr(tokenize, '\"'\"'open'\"'\"', open)(__file__) if os.path.exists(__file__) else io.StringIO('\"'\"'from setuptools import setup; setup()'\"'\"');code = f.read().replace('\"'\"'\\r\\n'\"'\"', '\"'\"'\\n'\"'\"');f.close();exec(compile(code, __file__, '\"'\"'exec'\"'\"'))' install --record /tmp/pip-record-5swi8urp/install-record.txt --single-version-externally-managed --compile --install-headers /usr/local/include/python3.8/box2d-py Check the logs for full command output.\u001b[0m\n",
            "Reading package lists... Done\n",
            "Building dependency tree       \n",
            "Reading state information... Done\n",
            "python-opengl is already the newest version (3.1.0+dfsg-1).\n",
            "The following package was automatically installed and is no longer required:\n",
            "  libnvidia-common-460\n",
            "Use 'apt autoremove' to remove it.\n",
            "0 upgraded, 0 newly installed, 0 to remove and 20 not upgraded.\n",
            "Reading package lists... Done\n",
            "Building dependency tree       \n",
            "Reading state information... Done\n",
            "ffmpeg is already the newest version (7:3.4.11-0ubuntu0.1).\n",
            "The following package was automatically installed and is no longer required:\n",
            "  libnvidia-common-460\n",
            "Use 'apt autoremove' to remove it.\n",
            "0 upgraded, 0 newly installed, 0 to remove and 20 not upgraded.\n",
            "Reading package lists... Done\n",
            "Building dependency tree       \n",
            "Reading state information... Done\n",
            "xvfb is already the newest version (2:1.19.6-1ubuntu4.13).\n",
            "The following package was automatically installed and is no longer required:\n",
            "  libnvidia-common-460\n",
            "Use 'apt autoremove' to remove it.\n",
            "0 upgraded, 0 newly installed, 0 to remove and 20 not upgraded.\n",
            "Looking in indexes: https://pypi.org/simple, https://us-python.pkg.dev/colab-wheels/public/simple/\n",
            "Requirement already satisfied: pyvirtualdisplay in /usr/local/lib/python3.8/dist-packages (3.0)\n",
            "Looking in indexes: https://pypi.org/simple, https://us-python.pkg.dev/colab-wheels/public/simple/\n",
            "Collecting xvfbwrapper\n",
            "  Downloading xvfbwrapper-0.2.9.tar.gz (5.6 kB)\n",
            "Building wheels for collected packages: xvfbwrapper\n",
            "  Building wheel for xvfbwrapper (setup.py) ... \u001b[?25l\u001b[?25hdone\n",
            "  Created wheel for xvfbwrapper: filename=xvfbwrapper-0.2.9-py3-none-any.whl size=5023 sha256=0ed65e1ec10b2dc498b15a4cf00df6829e452c04d6939ee4230e795898a2dd2b\n",
            "  Stored in directory: /root/.cache/pip/wheels/e1/da/b4/57ac130c024104997ae76f389fe0e7e43922ec3cfdffaf1b1e\n",
            "Successfully built xvfbwrapper\n",
            "Installing collected packages: xvfbwrapper\n",
            "Successfully installed xvfbwrapper-0.2.9\n"
          ]
        },
        {
          "output_type": "execute_result",
          "data": {
            "text/plain": [
              "<pyvirtualdisplay.display.Display at 0x7f5de40bb970>"
            ]
          },
          "metadata": {},
          "execution_count": 4
        }
      ]
    },
    {
      "cell_type": "code",
      "execution_count": 6,
      "metadata": {
        "id": "meUGEAFafAji"
      },
      "outputs": [],
      "source": [
        "import numpy as np\n",
        "import torch\n",
        "import random\n",
        "import matplotlib.pyplot as plt\n",
        "\n",
        "import gym\n",
        "\n",
        "from ppo.ppo import PPOAgent\n",
        "from utils import show_video, convert_gif\n",
        "\n",
        "class GlobalConfig:\n",
        "    def __init__(self):\n",
        "        self.seed = 555\n",
        "        self.path2save_train_history = \"/content/models/Mountain-Car\"\n",
        "def seed_everything(seed: int):\n",
        "    random.seed(seed)\n",
        "    np.random.seed(seed)\n",
        "    torch.manual_seed(seed)\n",
        "\n",
        "config = GlobalConfig()\n",
        "seed_everything(config.seed)"
      ]
    },
    {
      "cell_type": "code",
      "execution_count": 7,
      "metadata": {
        "colab": {
          "base_uri": "https://localhost:8080/"
        },
        "id": "y4rFI7DvczLW",
        "outputId": "0fe8518a-17ab-4c7d-c31f-5031b523c794"
      },
      "outputs": [
        {
          "output_type": "stream",
          "name": "stdout",
          "text": [
            "Action space: Box([-1.], [1.], (1,), float32)\n",
            "Action sample: [-0.1616724]\n",
            "Observations space: Box([-1.2  -0.07], [0.6  0.07], (2,), float32)\n",
            "Observation sample: [-0.7617823   0.05950724]\n",
            "Max speed: 0.07\n",
            "Reward range: (-inf, inf)\n"
          ]
        }
      ],
      "source": [
        "env = gym.make(\"MountainCarContinuous-v0\")  # initializing environment\n",
        "# env's parameters\n",
        "print(\"Action space:\", env.action_space)\n",
        "print(\"Action sample:\", env.action_space.sample())\n",
        "print(\"Observations space:\", env.observation_space)\n",
        "print(\"Observation sample:\", env.observation_space.sample())\n",
        "\n",
        "# other specific parameters\n",
        "print(\"Max speed:\", env.env.max_speed)\n",
        "print(\"Reward range:\", env.env.reward_range)"
      ]
    },
    {
      "cell_type": "code",
      "execution_count": 8,
      "metadata": {
        "id": "pQMQzFBidum-",
        "colab": {
          "base_uri": "https://localhost:8080/",
          "height": 269
        },
        "outputId": "149c4682-b6aa-4b9a-c85f-ab96666c651f"
      },
      "outputs": [
        {
          "output_type": "display_data",
          "data": {
            "text/plain": [
              "<Figure size 432x288 with 1 Axes>"
            ],
            "image/png": "[encoded data removed]"
          },
          "metadata": {
            "needs_background": "light"
          }
        }
      ],
      "source": [
        "env.reset() # initial observation\n",
        "plt.imshow(env.render(\"rgb_array\"));"
      ]
    },
    {
      "cell_type": "code",
      "source": [
        "def make_env():\n",
        "    # environment\n",
        "    env_id = \"MountainCarContinuous-v0\"\n",
        "    env = gym.make(env_id)\n",
        "    env.seed(config.seed)\n",
        "    return env "
      ],
      "metadata": {
        "id": "Ud03ZaXaX1Nh"
      },
      "execution_count": 9,
      "outputs": []
    },
    {
      "cell_type": "code",
      "source": [
        "agent = PPOAgent(\n",
        "    make_env,\n",
        "    obs_dim = 2,\n",
        "    act_dim = 1,\n",
        "    gamma = 0.99,\n",
        "    lamda = 0.95,\n",
        "    entropy_coef = 0.003,\n",
        "    epsilon = 0.2,\n",
        "    value_range = 0.5,\n",
        "    rollout_len = 1000,\n",
        "    total_rollouts = 50000,\n",
        "    num_epochs = 64,\n",
        "    batch_size = 1000,\n",
        "    is_evaluate = False,\n",
        "    continuous = True,\n",
        "    solved_reward = 92,\n",
        "    actor_lr = 1e-3,\n",
        "    critic_lr = 5e-3,\n",
        "    path2save_train_history = config.path2save_train_history,\n",
        ")"
      ],
      "metadata": {
        "colab": {
          "base_uri": "https://localhost:8080/"
        },
        "id": "HXTQ4bKmX31y",
        "outputId": "8767c9ee-d065-4f43-92fc-14237f8cc5ec"
      },
      "execution_count": 10,
      "outputs": [
        {
          "output_type": "stream",
          "name": "stdout",
          "text": [
            "device: cpu\n"
          ]
        }
      ]
    },
    {
      "cell_type": "code",
      "source": [
        "import os\n",
        "models_dir = f\"/content/models/Mountain-Car\"\n",
        "\n",
        "if not os.path.exists(models_dir):\n",
        "    os.makedirs(models_dir)"
      ],
      "metadata": {
        "id": "YuCjik9foUKr"
      },
      "execution_count": 23,
      "outputs": []
    },
    {
      "cell_type": "code",
      "source": [
        "%%time\n",
        "agent.train()"
      ],
      "metadata": {
        "colab": {
          "base_uri": "https://localhost:8080/",
          "height": 637
        },
        "id": "6Yvp3PnYX7Ij",
        "outputId": "75d467b8-26f3-4c2c-cfdc-b929b2fcd2d7"
      },
      "execution_count": 16,
      "outputs": [
        {
          "output_type": "display_data",
          "data": {
            "text/plain": [
              "<Figure size 432x576 with 3 Axes>"
            ],
            "image/png": "[encoded data removed]"
          },
          "metadata": {
            "needs_background": "light"
          }
        },
        {
          "output_type": "stream",
          "name": "stdout",
          "text": [
            "Congratulations, it's solved!\n",
            "CPU times: user 873 ms, sys: 118 ms, total: 991 ms\n",
            "Wall time: 887 ms\n"
          ]
        }
      ]
    },
    {
      "cell_type": "code",
      "source": [
        "date_time = datetime.datetime.now().strftime('%Y-%m-%d_%H-%M-%S')"
      ],
      "metadata": {
        "id": "ic7tXC_ys02b"
      },
      "execution_count": 22,
      "outputs": []
    },
    {
      "cell_type": "code",
      "execution_count": 25,
      "metadata": {
        "colab": {
          "base_uri": "https://localhost:8080/",
          "height": 53
        },
        "id": "42pOCX0-m8QJ",
        "outputId": "0b2afd96-5fe9-4e5a-bc3e-500028f8df9d"
      },
      "outputs": [
        {
          "output_type": "execute_result",
          "data": {
            "text/plain": [
              "'drive/MyDrive/Mountain-Car - Model Data/path/to/output_dir/ppo-agent-results-ep-20-2022-12-20_08-44-56'"
            ],
            "application/vnd.google.colaboratory.intrinsic+json": {
              "type": "string"
            }
          },
          "metadata": {},
          "execution_count": 25
        }
      ],
      "source": [
        "import shutil\n",
        "import datetime\n",
        "original = r\"/content/models/Mountain-Car\"\n",
        "target = r'drive/MyDrive/Mountain-Car - Model Data/path/to/output_dir/ppo-agent-results-ep-20-'+ date_time\n",
        "\n",
        "shutil.copytree(original, target)"
      ]
    },
    {
      "cell_type": "code",
      "source": [
        "import shutil\n",
        "import datetime\n",
        "original = r\"/content/\"\n",
        "target = r'drive/MyDrive/Mountain-Car - Model Data/path/to/output_dir/ppo-agent-results-ep-20-'+ date_time+\"/\"\n",
        "\n",
        "shutil.copy(original + \"loss_logs.csv\", target + \"loss_logs.csv\")\n",
        "\n",
        "original = r\"/content/\"\n",
        "target = r'drive/MyDrive/Mountain-Car - Model Data/path/to/output_dir/ppo-agent-results-ep-20-'+date_time+'/'\n",
        "\n",
        "shutil.copy(original+'score_logs.csv', target+ 'score_logs.csv')"
      ],
      "metadata": {
        "colab": {
          "base_uri": "https://localhost:8080/",
          "height": 53
        },
        "id": "FsUq3E-jr93n",
        "outputId": "e87a1bd6-a82b-4f98-ee81-0f9c983f284a"
      },
      "execution_count": 28,
      "outputs": [
        {
          "output_type": "execute_result",
          "data": {
            "text/plain": [
              "'drive/MyDrive/Mountain-Car - Model Data/path/to/output_dir/ppo-agent-results-ep-20-2022-12-20_08-44-56/score_logs.csv'"
            ],
            "application/vnd.google.colaboratory.intrinsic+json": {
              "type": "string"
            }
          },
          "metadata": {},
          "execution_count": 28
        }
      ]
    },
    {
      "cell_type": "code",
      "source": [
        "agent.env =  gym.wrappers.Monitor(agent.env, \"MountainCarContinuous-v0/videos\", force=True)\n",
        "agent.evaluate()"
      ],
      "metadata": {
        "id": "E63xi1xWX9Z8"
      },
      "execution_count": 17,
      "outputs": []
    },
    {
      "cell_type": "code",
      "source": [
        "show_video(\"/content/MountainCarContinuous-v0/videos\")"
      ],
      "metadata": {
        "colab": {
          "base_uri": "https://localhost:8080/",
          "height": 422
        },
        "id": "PUL0B8Xoerxj",
        "outputId": "ce2c3dcb-33d9-4f08-a24d-093706a5855b"
      },
      "execution_count": 19,
      "outputs": [
        {
          "output_type": "execute_result",
          "data": {
            "text/plain": [
              "<IPython.core.display.HTML object>"
            ],
            "text/html": [
              "<video alt=\"test\" controls>\n",
              "    <source src=\"data:video/mp4;base64,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\" type=\"video/mp4\" /> </video>"
            ]
          },
          "metadata": {},
          "execution_count": 19
        }
      ]
    },
    {
      "cell_type": "markdown",
      "metadata": {
        "id": "fAdQe1oHknYI"
      },
      "source": [
        "Environment Code:"
      ]
    },
    {
      "cell_type": "code",
      "execution_count": null,
      "metadata": {
        "id": "YAEytCD5nmsE"
      },
      "outputs": [],
      "source": [
        "# -*- coding: utf-8 -*-\n",
        "\"\"\"\n",
        "@author: Olivier Sigaud\n",
        "\n",
        "A merge between two sources:\n",
        "\n",
        "* Adaptation of the MountainCar Environment from the \"FAReinforcement\" library\n",
        "of Jose Antonio Martin H. (version 1.0), adapted by  'Tom Schaul, tom@idsia.ch'\n",
        "and then modified by Arnaud de Broissia\n",
        "\n",
        "* the OpenAI/gym MountainCar environment\n",
        "itself from\n",
        "http://incompleteideas.net/sutton/MountainCar/MountainCar1.cp\n",
        "permalink: https://perma.cc/6Z2N-PFWC\n",
        "\"\"\"\n",
        "\n",
        "import math\n",
        "\n",
        "import numpy as np\n",
        "\n",
        "import gym\n",
        "from gym import spaces\n",
        "from gym.utils import seeding\n",
        "\n",
        "\n",
        "class Continuous_MountainCarEnv(gym.Env):\n",
        "    \"\"\"\n",
        "    Description:\n",
        "        The agent (a car) is started at the bottom of a valley. For any given\n",
        "        state the agent may choose to accelerate to the left, right or cease\n",
        "        any acceleration.\n",
        "    Observation:\n",
        "        Type: Box(2)\n",
        "        Num    Observation               Min            Max\n",
        "        0      Car Position              -1.2           0.6\n",
        "        1      Car Velocity              -0.07          0.07\n",
        "    Actions:\n",
        "        Type: Box(1)\n",
        "        Num    Action                    Min            Max\n",
        "        0      the power coef            -1.0           1.0\n",
        "        Note: actual driving force is calculated by multipling the power coef by power (0.0015)\n",
        "\n",
        "    Reward:\n",
        "         Reward of 100 is awarded if the agent reached the flag (position = 0.45) on top of the mountain.\n",
        "         Reward is decrease based on amount of energy consumed each step.\n",
        "\n",
        "    Starting State:\n",
        "         The position of the car is assigned a uniform random value in\n",
        "         [-0.6 , -0.4].\n",
        "         The starting velocity of the car is always assigned to 0.\n",
        "\n",
        "    Episode Termination:\n",
        "         The car position is more than 0.45\n",
        "         Episode length is greater than 200\n",
        "    \"\"\"\n",
        "\n",
        "    metadata = {\"render.modes\": [\"human\", \"rgb_array\"], \"video.frames_per_second\": 30}\n",
        "\n",
        "    def __init__(self, goal_velocity=0):\n",
        "      \n",
        "        self.min_action = -1.0\n",
        "        self.max_action = 1.0\n",
        "        self.min_position = -1.2\n",
        "        self.max_position = 0.6\n",
        "        self.max_speed = 0.07\n",
        "        self.goal_position = (\n",
        "            0.45  # was 0.5 in gym, 0.45 in Arnaud de Broissia's version\n",
        "        )\n",
        "        self.goal_velocity = goal_velocity\n",
        "        self.power = 0.0015\n",
        "\n",
        "        self.low_state = np.array(\n",
        "            [self.min_position, -self.max_speed], dtype=np.float32\n",
        "        )\n",
        "        self.high_state = np.array(\n",
        "            [self.max_position, self.max_speed], dtype=np.float32\n",
        "        )\n",
        "\n",
        "        self.viewer = None\n",
        "\n",
        "        self.action_space = spaces.Box(\n",
        "            low=self.min_action, high=self.max_action, shape=(1,), dtype=np.float32\n",
        "        )\n",
        "        self.observation_space = spaces.Box(\n",
        "            low=self.low_state, high=self.high_state, dtype=np.float32\n",
        "        )\n",
        "\n",
        "        self.seed()\n",
        "\n",
        "    def seed(self, seed=None):\n",
        "        self.np_random, seed = seeding.np_random(seed)\n",
        "        return [seed]\n",
        "\n",
        "    def step(self, action):\n",
        "\n",
        "        position = self.state[0]\n",
        "        velocity = self.state[1]\n",
        "        force = min(max(action[0], self.min_action), self.max_action)\n",
        "\n",
        "        velocity += force * self.power - 0.0025 * math.cos(3 * position)\n",
        "        if velocity > self.max_speed:\n",
        "            velocity = self.max_speed\n",
        "        if velocity < -self.max_speed:\n",
        "            velocity = -self.max_speed\n",
        "        position += velocity\n",
        "        if position > self.max_position:\n",
        "            position = self.max_position\n",
        "        if position < self.min_position:\n",
        "            position = self.min_position\n",
        "        if position == self.min_position and velocity < 0:\n",
        "            velocity = 0\n",
        "\n",
        "        # Convert a possible numpy bool to a Python bool.\n",
        "        done = bool(position >= self.goal_position and velocity >= self.goal_velocity)\n",
        "\n",
        "        reward = 0\n",
        "        if done:\n",
        "            reward = 100.0\n",
        "        reward -= math.pow(action[0], 2) * 0.1\n",
        "\n",
        "        self.state = np.array([position, velocity], dtype=np.float32)\n",
        "        return self.state, reward, done, {}\n",
        "\n",
        "    def reset(self):\n",
        "        self.state = np.array([self.np_random.uniform(low=-0.6, high=-0.4), 0])\n",
        "        return np.array(self.state, dtype=np.float32)\n",
        "\n",
        "    def _height(self, xs):\n",
        "        return np.sin(3 * xs) * 0.45 + 0.55\n",
        "\n",
        "    def render(self, mode=\"human\"):\n",
        "        screen_width = 600\n",
        "        screen_height = 400\n",
        "\n",
        "        world_width = self.max_position - self.min_position\n",
        "        scale = screen_width / world_width\n",
        "        carwidth = 40\n",
        "        carheight = 20\n",
        "\n",
        "        if self.viewer is None:\n",
        "            from gym.envs.classic_control import rendering\n",
        "\n",
        "            self.viewer = rendering.Viewer(screen_width, screen_height)\n",
        "            xs = np.linspace(self.min_position, self.max_position, 100)\n",
        "            ys = self._height(xs)\n",
        "            xys = list(zip((xs - self.min_position) * scale, ys * scale))\n",
        "\n",
        "            self.track = rendering.make_polyline(xys)\n",
        "            self.track.set_linewidth(4)\n",
        "            self.viewer.add_geom(self.track)\n",
        "\n",
        "            clearance = 10\n",
        "\n",
        "            l, r, t, b = -carwidth / 2, carwidth / 2, carheight, 0\n",
        "            car = rendering.FilledPolygon([(l, b), (l, t), (r, t), (r, b)])\n",
        "            car.add_attr(rendering.Transform(translation=(0, clearance)))\n",
        "            self.cartrans = rendering.Transform()\n",
        "            car.add_attr(self.cartrans)\n",
        "            self.viewer.add_geom(car)\n",
        "            frontwheel = rendering.make_circle(carheight / 2.5)\n",
        "            frontwheel.set_color(0.5, 0.5, 0.5)\n",
        "            frontwheel.add_attr(\n",
        "                rendering.Transform(translation=(carwidth / 4, clearance))\n",
        "            )\n",
        "            frontwheel.add_attr(self.cartrans)\n",
        "            self.viewer.add_geom(frontwheel)\n",
        "            backwheel = rendering.make_circle(carheight / 2.5)\n",
        "            backwheel.add_attr(\n",
        "                rendering.Transform(translation=(-carwidth / 4, clearance))\n",
        "            )\n",
        "            backwheel.add_attr(self.cartrans)\n",
        "            backwheel.set_color(0.5, 0.5, 0.5)\n",
        "            self.viewer.add_geom(backwheel)\n",
        "            flagx = (self.goal_position - self.min_position) * scale\n",
        "            flagy1 = self._height(self.goal_position) * scale\n",
        "            flagy2 = flagy1 + 50\n",
        "            flagpole = rendering.Line((flagx, flagy1), (flagx, flagy2))\n",
        "            self.viewer.add_geom(flagpole)\n",
        "            flag = rendering.FilledPolygon(\n",
        "                [(flagx, flagy2), (flagx, flagy2 - 10), (flagx + 25, flagy2 - 5)]\n",
        "            )\n",
        "            flag.set_color(0.8, 0.8, 0)\n",
        "            self.viewer.add_geom(flag)\n",
        "\n",
        "        pos = self.state[0]\n",
        "        self.cartrans.set_translation(\n",
        "            (pos - self.min_position) * scale, self._height(pos) * scale\n",
        "        )\n",
        "        self.cartrans.set_rotation(math.cos(3 * pos))\n",
        "\n",
        "        return self.viewer.render(return_rgb_array=mode == \"rgb_array\")\n",
        "\n",
        "    def close(self):\n",
        "        if self.viewer:\n",
        "            self.viewer.close()\n",
        "            self.viewer = None\n"
      ]
    },
    {
      "cell_type": "code",
      "execution_count": null,
      "metadata": {
        "id": "FV7vgSIMgbYG"
      },
      "outputs": [],
      "source": [
        "\n",
        "\n",
        "\n",
        "'''\n",
        "\n",
        "\n",
        "\"\"\"\n",
        "http://incompleteideas.net/MountainCar/MountainCar1.cp\n",
        "permalink: https://perma.cc/6Z2N-PFWC\n",
        "\"\"\"\n",
        "import math\n",
        "\n",
        "import numpy as np\n",
        "\n",
        "import gym\n",
        "from gym import spaces\n",
        "from gym.utils import seeding\n",
        "\n",
        "\n",
        "class MountainCarEnv(gym.Env):\n",
        "    \"\"\"\n",
        "    Description:\n",
        "        The agent (a car) is started at the bottom of a valley. For any given\n",
        "        state the agent may choose to accelerate to the left, right or cease\n",
        "        any acceleration.\n",
        "\n",
        "    Source:\n",
        "        The environment appeared first in Andrew Moore's PhD Thesis (1990).\n",
        "\n",
        "    Observation:\n",
        "        Type: Box(2)\n",
        "        Num    Observation               Min            Max\n",
        "        0      Car Position              -1.2           0.6\n",
        "        1      Car Velocity              -0.07          0.07\n",
        "\n",
        "    Actions:\n",
        "        Type: Discrete(3)\n",
        "        Num    Action\n",
        "        0      Accelerate to the Left\n",
        "        1      Don't accelerate\n",
        "        2      Accelerate to the Right\n",
        "\n",
        "        Note: This does not affect the amount of velocity affected by the\n",
        "        gravitational pull acting on the car.\n",
        "\n",
        "    Reward:\n",
        "         Reward of 0 is awarded if the agent reached the flag (position = 0.5)\n",
        "         on top of the mountain.\n",
        "         Reward of -1 is awarded if the position of the agent is less than 0.5.\n",
        "\n",
        "    Starting State:\n",
        "         The position of the car is assigned a uniform random value in\n",
        "         [-0.6 , -0.4].\n",
        "         The starting velocity of the car is always assigned to 0.\n",
        "\n",
        "    Episode Termination:\n",
        "         The car position is more than 0.5\n",
        "         Episode length is greater than 200\n",
        "    \"\"\"\n",
        "\n",
        "    metadata = {\"render.modes\": [\"human\", \"rgb_array\"], \"video.frames_per_second\": 30}\n",
        "\n",
        "    def __init__(self, goal_velocity=0):\n",
        "        self.min_position = -1.2\n",
        "        self.max_position = 0.6\n",
        "        self.max_speed = 0.07\n",
        "        self.goal_position = 0.5\n",
        "        self.goal_velocity = goal_velocity\n",
        "\n",
        "        self.force = 0.001\n",
        "        self.gravity = 0.0025\n",
        "\n",
        "        self.low = np.array([self.min_position, -self.max_speed], dtype=np.float32)\n",
        "        self.high = np.array([self.max_position, self.max_speed], dtype=np.float32)\n",
        "\n",
        "        self.viewer = None\n",
        "\n",
        "        self.action_space = spaces.Discrete(3)\n",
        "        self.observation_space = spaces.Box(self.low, self.high, dtype=np.float32)\n",
        "\n",
        "        self.seed()\n",
        "\n",
        "    def seed(self, seed=None):\n",
        "        self.np_random, seed = seeding.np_random(seed)\n",
        "        return [seed]\n",
        "\n",
        "    def step(self, action):\n",
        "        assert self.action_space.contains(action), \"%r (%s) invalid\" % (\n",
        "            action,\n",
        "            type(action),\n",
        "        )\n",
        "\n",
        "        position, velocity = self.state\n",
        "        velocity += (action - 1) * self.force + math.cos(3 * position) * (-self.gravity)\n",
        "        velocity = np.clip(velocity, -self.max_speed, self.max_speed)\n",
        "        position += velocity\n",
        "        position = np.clip(position, self.min_position, self.max_position)\n",
        "        if position == self.min_position and velocity < 0:\n",
        "            velocity = 0\n",
        "\n",
        "        done = bool(position >= self.goal_position and velocity >= self.goal_velocity)\n",
        "        reward = -1.0\n",
        "\n",
        "        self.state = (position, velocity)\n",
        "        return np.array(self.state, dtype=np.float32), reward, done, {}\n",
        "\n",
        "    def reset(self):\n",
        "        self.state = np.array([self.np_random.uniform(low=-0.6, high=-0.4), 0])\n",
        "        return np.array(self.state, dtype=np.float32)\n",
        "\n",
        "    def _height(self, xs):\n",
        "        return np.sin(3 * xs) * 0.45 + 0.55\n",
        "\n",
        "    def render(self, mode=\"human\"):\n",
        "        screen_width = 600\n",
        "        screen_height = 400\n",
        "\n",
        "        world_width = self.max_position - self.min_position\n",
        "        scale = screen_width / world_width\n",
        "        carwidth = 40\n",
        "        carheight = 20\n",
        "\n",
        "        if self.viewer is None:\n",
        "            from gym.envs.classic_control import rendering\n",
        "\n",
        "            self.viewer = rendering.Viewer(screen_width, screen_height)\n",
        "            xs = np.linspace(self.min_position, self.max_position, 100)\n",
        "            ys = self._height(xs)\n",
        "            xys = list(zip((xs - self.min_position) * scale, ys * scale))\n",
        "\n",
        "            self.track = rendering.make_polyline(xys)\n",
        "            self.track.set_linewidth(4)\n",
        "            self.viewer.add_geom(self.track)\n",
        "\n",
        "            clearance = 10\n",
        "\n",
        "            l, r, t, b = -carwidth / 2, carwidth / 2, carheight, 0\n",
        "            car = rendering.FilledPolygon([(l, b), (l, t), (r, t), (r, b)])\n",
        "            car.add_attr(rendering.Transform(translation=(0, clearance)))\n",
        "            self.cartrans = rendering.Transform()\n",
        "            car.add_attr(self.cartrans)\n",
        "            self.viewer.add_geom(car)\n",
        "            frontwheel = rendering.make_circle(carheight / 2.5)\n",
        "            frontwheel.set_color(0.5, 0.5, 0.5)\n",
        "            frontwheel.add_attr(\n",
        "                rendering.Transform(translation=(carwidth / 4, clearance))\n",
        "            )\n",
        "            frontwheel.add_attr(self.cartrans)\n",
        "            self.viewer.add_geom(frontwheel)\n",
        "            backwheel = rendering.make_circle(carheight / 2.5)\n",
        "            backwheel.add_attr(\n",
        "                rendering.Transform(translation=(-carwidth / 4, clearance))\n",
        "            )\n",
        "            backwheel.add_attr(self.cartrans)\n",
        "            backwheel.set_color(0.5, 0.5, 0.5)\n",
        "            self.viewer.add_geom(backwheel)\n",
        "            flagx = (self.goal_position - self.min_position) * scale\n",
        "            flagy1 = self._height(self.goal_position) * scale\n",
        "            flagy2 = flagy1 + 50\n",
        "            flagpole = rendering.Line((flagx, flagy1), (flagx, flagy2))\n",
        "            self.viewer.add_geom(flagpole)\n",
        "            flag = rendering.FilledPolygon(\n",
        "                [(flagx, flagy2), (flagx, flagy2 - 10), (flagx + 25, flagy2 - 5)]\n",
        "            )\n",
        "            flag.set_color(0.8, 0.8, 0)\n",
        "            self.viewer.add_geom(flag)\n",
        "\n",
        "        pos = self.state[0]\n",
        "        self.cartrans.set_translation(\n",
        "            (pos - self.min_position) * scale, self._height(pos) * scale\n",
        "        )\n",
        "        self.cartrans.set_rotation(math.cos(3 * pos))\n",
        "\n",
        "        return self.viewer.render(return_rgb_array=mode == \"rgb_array\")\n",
        "\n",
        "    def get_keys_to_action(self):\n",
        "        # Control with left and right arrow keys.\n",
        "        return {(): 1, (276,): 0, (275,): 2, (275, 276): 1}\n",
        "\n",
        "    def close(self):\n",
        "        if self.viewer:\n",
        "            self.viewer.close()\n",
        "            self.viewer = None\n",
        "'''"
      ]
    },
    {
      "cell_type": "code",
      "execution_count": null,
      "metadata": {
        "colab": {
          "base_uri": "https://localhost:8080/",
          "height": 70
        },
        "id": "uYVxU3RtUUXY",
        "outputId": "b44e197f-c03d-4ebe-fb67-1dc2885d38f6"
      },
      "outputs": [
        {
          "data": {
            "application/vnd.google.colaboratory.intrinsic+json": {
              "type": "string"
            },
            "text/plain": [
              "'\\nmodels_dir = \"/content/models/Mountain-1668885132.9814198\"\\nmodel_path = f\"{models_dir}/80000\"\\nbest_model = PPO.load(model_path, env=env)\\n\\n#obs = env.reset()\\n#while True:\\n #   action, _states = best_model.predict(obs)\\n  #  obs, rewards, dones, info = env.step(action)\\n#env.play()  #use Python IDE to check, I havn\\'t figure out how to render in Notebook'"
            ]
          },
          "execution_count": 10,
          "metadata": {},
          "output_type": "execute_result"
        }
      ],
      "source": [
        "# Check model performance\n",
        "# load the best model you observed from tensorboard - the one reach the goal/ obtaining highest return\n",
        "'''\n",
        "models_dir = \"/content/models/Mountain-1668885132.9814198\"\n",
        "model_path = f\"{models_dir}/80000\"\n",
        "best_model = PPO.load(model_path, env=env)\n",
        "\n",
        "#obs = env.reset()\n",
        "#while True:\n",
        " #   action, _states = best_model.predict(obs)\n",
        "  #  obs, rewards, dones, info = env.step(action)\n",
        "#env.play()  #use Python IDE to check, I havn't figure out how to render in Notebook'''"
      ]
    }
  ],
  "metadata": {
    "colab": {
      "provenance": [],
      "include_colab_link": true
    },
    "kernelspec": {
      "display_name": "Python 3",
      "name": "python3"
    },
    "language_info": {
      "name": "python"
    }
  },
  "nbformat": 4,
  "nbformat_minor": 0
}